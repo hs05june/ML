{
 "cells": [
  {
   "cell_type": "code",
   "execution_count": 1,
   "id": "ae46f9f3",
   "metadata": {},
   "outputs": [],
   "source": [
    "import pandas as pd\n",
    "import math\n",
    "import random\n",
    "# from matplotlib.cm import binary\n",
    "import matplotlib.pyplot as plt\n",
    "import numpy as np\n",
    "import seaborn as sns\n",
    "# from sklearn.datasets import fetch_openml\n",
    "# from sklearn.ensemble  import RandomForestClassifier,RandomForestRegressor\n",
    "# from sklearn.svm import SVC\n",
    "# from sklearn import svm\n",
    "# from sklearn.neural_network import MLPClassifier\n",
    "# from sklearn.linear_model import SGDClassifier, LogisticRegression,LinearRegression\n",
    "# from sklearn.metrics import confusion_matrix,classification_report,precision_score,recall_score,f1_score,precision_recall_curve\n",
    "# from sklearn.preprocessing import StandardScaler, LabelEncoder\n",
    "# from sklearn.model_selection import train_test_split, KFold, cross_val_score, StratifiedShuffleSplit,cross_val_predict\n",
    "# from sklearn.metrics import accuracy_score,mean_squared_error\n",
    "# from sklearn.discriminant_analysis import LinearDiscriminantAnalysis\n",
    "# from sklearn.neighbors import KNeighborsClassifier\n",
    "# from sklearn.naive_bayes import GaussianNB\n",
    "# from sklearn.tree import DecisionTreeClassifier\n",
    "# from pandas.plotting import scatter_matrix\n",
    "# from statsmodels.graphics.mosaicplot import mosaic\n",
    "# from mlxtend.frequent_patterns import apriori\n",
    "# from mlxtend.frequent_patterns import association_rules\n",
    "# from sklearn.pipeline import Pipeline\n",
    "# from sklearn.impute import SimpleImputer\n",
    "# from sklearn.tree import DecisionTreeRegressor\n",
    "# from sklearn.cluster import KMeans\n",
    "%matplotlib inline"
   ]
  },
  {
   "cell_type": "code",
   "execution_count": 2,
   "id": "4ab593fd",
   "metadata": {},
   "outputs": [],
   "source": [
    "gamma = 0.75 # discount offer\n",
    "alpha = 0.9  # learning rate\n",
    "render = False # if initially training set ko true rakhna hai"
   ]
  },
  {
   "cell_type": "code",
   "execution_count": 3,
   "id": "7971b943",
   "metadata": {},
   "outputs": [],
   "source": [
    "location_to_state = {\n",
    "    'L1':0,\n",
    "    'L2':1,\n",
    "    'L3':2,\n",
    "    'L4':3,\n",
    "    'L5':4,\n",
    "    'L6':5,\n",
    "    'L7':6,\n",
    "    'L8':7,\n",
    "    'L9':8\n",
    "}"
   ]
  },
  {
   "cell_type": "code",
   "execution_count": 4,
   "id": "e00508c1",
   "metadata": {},
   "outputs": [],
   "source": [
    "state_to_location = {\n",
    "    0:'L1',\n",
    "    1:'L2',\n",
    "    2:'L3',\n",
    "    3:'L4',\n",
    "    4:'L5',\n",
    "    5:'L6',\n",
    "    6:'L7',\n",
    "    7:'L8',\n",
    "    8:'L9'\n",
    "}"
   ]
  },
  {
   "cell_type": "code",
   "execution_count": 5,
   "id": "b23c2774",
   "metadata": {},
   "outputs": [],
   "source": [
    "rewards = np.array([\n",
    "    [0,1,0,0,0,0,0,0,0],\n",
    "    [1,0,1,0,0,0,0,0,0],\n",
    "    [0,1,0,0,0,1,0,0,0],\n",
    "    [0,0,0,0,0,0,1,0,0],\n",
    "    [0,1,0,0,0,0,0,1,0],\n",
    "    [0,0,1,0,0,0,0,0,0],\n",
    "    [0,0,0,1,0,0,0,1,0],\n",
    "    [0,0,0,0,1,0,1,0,1],\n",
    "    [0,0,0,0,0,0,0,1,0]\n",
    "])"
   ]
  },
  {
   "cell_type": "code",
   "execution_count": 6,
   "id": "428fbd4c",
   "metadata": {},
   "outputs": [],
   "source": [
    "def get_optimal_route(start_location,end_location):\n",
    "    rewards_new = rewards.copy()\n",
    "    end_state = location_to_state[end_location]\n",
    "    rewards_new[end_state,end_state] = 999\n",
    "    \n",
    "    # Q learning Algorithms\n",
    "    Q = np.array(np.zeros([9,9]))\n",
    "    for i in range(1000):\n",
    "        current_state = np.random.randint(0,9)\n",
    "        playable_actions = []\n",
    "        \n",
    "        for j in range(9):\n",
    "            if rewards_new[current_state,j]>0:\n",
    "                playable_actions.append(j)\n",
    "                \n",
    "        next_state = np.random.choice(playable_actions)\n",
    "        \n",
    "        TD = rewards_new[current_state,next_state] + gamma*Q[next_state,np.argmax(Q[next_state,])] - Q[current_state,next_state]\n",
    "        Q[current_state,next_state] += alpha*TD\n",
    "        \n",
    "    route = [start_location]\n",
    "    next_location = start_location\n",
    "    \n",
    "    while(next_location!=end_location):\n",
    "        start_state = location_to_state[start_location]\n",
    "        next_state = np.argmax(Q[start_state,])\n",
    "        next_location = state_to_location[next_state]\n",
    "        route.append(next_location)\n",
    "        start_location = next_location\n",
    "        \n",
    "    return route"
   ]
  },
  {
   "cell_type": "code",
   "execution_count": 7,
   "id": "16fa8dfd",
   "metadata": {},
   "outputs": [
    {
     "name": "stdout",
     "output_type": "stream",
     "text": [
      "['L9', 'L8', 'L5', 'L2', 'L1']\n"
     ]
    }
   ],
   "source": [
    "print(get_optimal_route('L9','L1'))"
   ]
  },
  {
   "cell_type": "code",
   "execution_count": null,
   "id": "90cf187c",
   "metadata": {},
   "outputs": [],
   "source": []
  }
 ],
 "metadata": {
  "kernelspec": {
   "display_name": "Python 3 (ipykernel)",
   "language": "python",
   "name": "python3"
  },
  "language_info": {
   "codemirror_mode": {
    "name": "ipython",
    "version": 3
   },
   "file_extension": ".py",
   "mimetype": "text/x-python",
   "name": "python",
   "nbconvert_exporter": "python",
   "pygments_lexer": "ipython3",
   "version": "3.10.5"
  }
 },
 "nbformat": 4,
 "nbformat_minor": 5
}
